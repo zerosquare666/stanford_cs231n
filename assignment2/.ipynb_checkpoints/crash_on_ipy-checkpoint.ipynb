{
 "cells": [
  {
   "cell_type": "code",
   "execution_count": null,
   "metadata": {
    "collapsed": true
   },
   "outputs": [],
   "source": [
    "import sys\n",
    "\n",
    "class ExceptionHook:\n",
    "    instance = None\n",
    "\n",
    "    def __call__(self, *args, **kwargs):\n",
    "        if self.instance is None:\n",
    "            from IPython.core import ultratb\n",
    "            self.instance = ultratb.FormattedTB(mode='Plain',\n",
    "                 color_scheme='Linux', call_pdb=1)\n",
    "        return self.instance(*args, **kwargs)\n",
    "\n",
    "sys.excepthook = ExceptionHook()"
   ]
  }
 ],
 "metadata": {
  "kernelspec": {
   "display_name": "Python 3",
   "language": "python",
   "name": "python3"
  },
  "language_info": {
   "codemirror_mode": {
    "name": "ipython",
    "version": 3
   },
   "file_extension": ".py",
   "mimetype": "text/x-python",
   "name": "python",
   "nbconvert_exporter": "python",
   "pygments_lexer": "ipython3",
   "version": "3.5.2+"
  }
 },
 "nbformat": 4,
 "nbformat_minor": 0
}
